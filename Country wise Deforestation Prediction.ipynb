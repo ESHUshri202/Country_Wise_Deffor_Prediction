{
 "cells": [
  {
   "cell_type": "code",
   "execution_count": 1,
   "id": "246f82be",
   "metadata": {},
   "outputs": [
    {
     "ename": "ModuleNotFoundError",
     "evalue": "No module named 'geopandas'",
     "output_type": "error",
     "traceback": [
      "\u001b[1;31m---------------------------------------------------------------------------\u001b[0m",
      "\u001b[1;31mModuleNotFoundError\u001b[0m                       Traceback (most recent call last)",
      "Cell \u001b[1;32mIn[1], line 4\u001b[0m\n\u001b[0;32m      2\u001b[0m \u001b[38;5;28;01mimport\u001b[39;00m \u001b[38;5;21;01mnumpy\u001b[39;00m \u001b[38;5;28;01mas\u001b[39;00m \u001b[38;5;21;01mnp\u001b[39;00m\n\u001b[0;32m      3\u001b[0m \u001b[38;5;28;01mimport\u001b[39;00m \u001b[38;5;21;01mmatplotlib\u001b[39;00m\u001b[38;5;21;01m.\u001b[39;00m\u001b[38;5;21;01mpyplot\u001b[39;00m \u001b[38;5;28;01mas\u001b[39;00m \u001b[38;5;21;01mplt\u001b[39;00m \n\u001b[1;32m----> 4\u001b[0m \u001b[38;5;28;01mimport\u001b[39;00m \u001b[38;5;21;01mgeopandas\u001b[39;00m \u001b[38;5;28;01mas\u001b[39;00m \u001b[38;5;21;01mgpd\u001b[39;00m\n",
      "\u001b[1;31mModuleNotFoundError\u001b[0m: No module named 'geopandas'"
     ]
    }
   ],
   "source": [
    "import pandas as pd\n",
    "import numpy as np\n",
    "import matplotlib.pyplot as plt \n",
    "import geopandas as gpd"
   ]
  },
  {
   "cell_type": "code",
   "execution_count": 7,
   "id": "e85044b1",
   "metadata": {},
   "outputs": [],
   "source": [
    "df=pd.read_csv(\"forrest.csv\")"
   ]
  },
  {
   "cell_type": "code",
   "execution_count": 8,
   "id": "5d0478f9",
   "metadata": {},
   "outputs": [
    {
     "data": {
      "text/html": [
       "<div>\n",
       "<style scoped>\n",
       "    .dataframe tbody tr th:only-of-type {\n",
       "        vertical-align: middle;\n",
       "    }\n",
       "\n",
       "    .dataframe tbody tr th {\n",
       "        vertical-align: top;\n",
       "    }\n",
       "\n",
       "    .dataframe thead th {\n",
       "        text-align: right;\n",
       "    }\n",
       "</style>\n",
       "<table border=\"1\" class=\"dataframe\">\n",
       "  <thead>\n",
       "    <tr style=\"text-align: right;\">\n",
       "      <th></th>\n",
       "      <th>iso3c</th>\n",
       "      <th>forests_2000</th>\n",
       "      <th>forests_2020</th>\n",
       "      <th>trend</th>\n",
       "    </tr>\n",
       "  </thead>\n",
       "  <tbody>\n",
       "    <tr>\n",
       "      <th>0</th>\n",
       "      <td>AFG</td>\n",
       "      <td>1.9</td>\n",
       "      <td>1.9</td>\n",
       "      <td>0.0</td>\n",
       "    </tr>\n",
       "    <tr>\n",
       "      <th>1</th>\n",
       "      <td>ALB</td>\n",
       "      <td>28.1</td>\n",
       "      <td>28.8</td>\n",
       "      <td>2.5</td>\n",
       "    </tr>\n",
       "    <tr>\n",
       "      <th>2</th>\n",
       "      <td>DZA</td>\n",
       "      <td>0.7</td>\n",
       "      <td>0.8</td>\n",
       "      <td>14.3</td>\n",
       "    </tr>\n",
       "    <tr>\n",
       "      <th>3</th>\n",
       "      <td>ASM</td>\n",
       "      <td>88.7</td>\n",
       "      <td>85.7</td>\n",
       "      <td>-3.4</td>\n",
       "    </tr>\n",
       "    <tr>\n",
       "      <th>4</th>\n",
       "      <td>AND</td>\n",
       "      <td>34.0</td>\n",
       "      <td>34.0</td>\n",
       "      <td>0.0</td>\n",
       "    </tr>\n",
       "  </tbody>\n",
       "</table>\n",
       "</div>"
      ],
      "text/plain": [
       "  iso3c  forests_2000  forests_2020  trend\n",
       "0   AFG           1.9           1.9    0.0\n",
       "1   ALB          28.1          28.8    2.5\n",
       "2   DZA           0.7           0.8   14.3\n",
       "3   ASM          88.7          85.7   -3.4\n",
       "4   AND          34.0          34.0    0.0"
      ]
     },
     "execution_count": 8,
     "metadata": {},
     "output_type": "execute_result"
    }
   ],
   "source": [
    "df.head()"
   ]
  },
  {
   "cell_type": "code",
   "execution_count": 9,
   "id": "3a117ffc",
   "metadata": {},
   "outputs": [
    {
     "data": {
      "text/plain": [
       "iso3c            object\n",
       "forests_2000    float64\n",
       "forests_2020    float64\n",
       "trend           float64\n",
       "dtype: object"
      ]
     },
     "execution_count": 9,
     "metadata": {},
     "output_type": "execute_result"
    }
   ],
   "source": [
    "df.dtypes"
   ]
  },
  {
   "cell_type": "code",
   "execution_count": 10,
   "id": "898cd446",
   "metadata": {},
   "outputs": [
    {
     "data": {
      "text/plain": [
       "iso3c            0\n",
       "forests_2000     0\n",
       "forests_2020     0\n",
       "trend           10\n",
       "dtype: int64"
      ]
     },
     "execution_count": 10,
     "metadata": {},
     "output_type": "execute_result"
    }
   ],
   "source": [
    "df.isnull().sum()"
   ]
  },
  {
   "cell_type": "code",
   "execution_count": 11,
   "id": "1462e099",
   "metadata": {},
   "outputs": [],
   "source": [
    "#Handle missing values\n",
    "\n",
    "for column in df.columns:\n",
    "    if df[column].dtype != 'object':\n",
    "        df[column] = df[column].fillna(df[column].mean())"
   ]
  },
  {
   "cell_type": "code",
   "execution_count": 12,
   "id": "780867e9",
   "metadata": {},
   "outputs": [
    {
     "data": {
      "text/plain": [
       "iso3c            object\n",
       "forests_2000    float64\n",
       "forests_2020    float64\n",
       "trend           float64\n",
       "dtype: object"
      ]
     },
     "execution_count": 12,
     "metadata": {},
     "output_type": "execute_result"
    }
   ],
   "source": [
    "df.dtypes"
   ]
  },
  {
   "cell_type": "code",
   "execution_count": 13,
   "id": "6a71bd43",
   "metadata": {},
   "outputs": [
    {
     "data": {
      "text/plain": [
       "iso3c           0\n",
       "forests_2000    0\n",
       "forests_2020    0\n",
       "trend           0\n",
       "dtype: int64"
      ]
     },
     "execution_count": 13,
     "metadata": {},
     "output_type": "execute_result"
    }
   ],
   "source": [
    "#Check for missing again\n",
    "df.isnull().sum()"
   ]
  },
  {
   "cell_type": "code",
   "execution_count": 14,
   "id": "8301b36c",
   "metadata": {},
   "outputs": [
    {
     "data": {
      "text/html": [
       "<div>\n",
       "<style scoped>\n",
       "    .dataframe tbody tr th:only-of-type {\n",
       "        vertical-align: middle;\n",
       "    }\n",
       "\n",
       "    .dataframe tbody tr th {\n",
       "        vertical-align: top;\n",
       "    }\n",
       "\n",
       "    .dataframe thead th {\n",
       "        text-align: right;\n",
       "    }\n",
       "</style>\n",
       "<table border=\"1\" class=\"dataframe\">\n",
       "  <thead>\n",
       "    <tr style=\"text-align: right;\">\n",
       "      <th></th>\n",
       "      <th>forests_2000</th>\n",
       "      <th>forests_2020</th>\n",
       "      <th>trend</th>\n",
       "    </tr>\n",
       "  </thead>\n",
       "  <tbody>\n",
       "    <tr>\n",
       "      <th>count</th>\n",
       "      <td>237.000000</td>\n",
       "      <td>237.000000</td>\n",
       "      <td>237.000000</td>\n",
       "    </tr>\n",
       "    <tr>\n",
       "      <th>mean</th>\n",
       "      <td>32.255274</td>\n",
       "      <td>31.585654</td>\n",
       "      <td>0.104846</td>\n",
       "    </tr>\n",
       "    <tr>\n",
       "      <th>std</th>\n",
       "      <td>25.366225</td>\n",
       "      <td>24.744673</td>\n",
       "      <td>16.502283</td>\n",
       "    </tr>\n",
       "    <tr>\n",
       "      <th>min</th>\n",
       "      <td>0.000000</td>\n",
       "      <td>0.000000</td>\n",
       "      <td>-100.000000</td>\n",
       "    </tr>\n",
       "    <tr>\n",
       "      <th>25%</th>\n",
       "      <td>9.900000</td>\n",
       "      <td>10.400000</td>\n",
       "      <td>-5.000000</td>\n",
       "    </tr>\n",
       "    <tr>\n",
       "      <th>50%</th>\n",
       "      <td>30.300000</td>\n",
       "      <td>30.300000</td>\n",
       "      <td>0.000000</td>\n",
       "    </tr>\n",
       "    <tr>\n",
       "      <th>75%</th>\n",
       "      <td>50.900000</td>\n",
       "      <td>49.800000</td>\n",
       "      <td>3.700000</td>\n",
       "    </tr>\n",
       "    <tr>\n",
       "      <th>max</th>\n",
       "      <td>98.300000</td>\n",
       "      <td>97.400000</td>\n",
       "      <td>86.200000</td>\n",
       "    </tr>\n",
       "  </tbody>\n",
       "</table>\n",
       "</div>"
      ],
      "text/plain": [
       "       forests_2000  forests_2020       trend\n",
       "count    237.000000    237.000000  237.000000\n",
       "mean      32.255274     31.585654    0.104846\n",
       "std       25.366225     24.744673   16.502283\n",
       "min        0.000000      0.000000 -100.000000\n",
       "25%        9.900000     10.400000   -5.000000\n",
       "50%       30.300000     30.300000    0.000000\n",
       "75%       50.900000     49.800000    3.700000\n",
       "max       98.300000     97.400000   86.200000"
      ]
     },
     "execution_count": 14,
     "metadata": {},
     "output_type": "execute_result"
    }
   ],
   "source": [
    "df.describe()"
   ]
  },
  {
   "cell_type": "code",
   "execution_count": 16,
   "id": "3cad5616",
   "metadata": {},
   "outputs": [
    {
     "data": {
      "text/plain": [
       "<Figure size 1200x600 with 0 Axes>"
      ]
     },
     "execution_count": 16,
     "metadata": {},
     "output_type": "execute_result"
    },
    {
     "data": {
      "text/plain": [
       "<Figure size 1200x600 with 0 Axes>"
      ]
     },
     "metadata": {},
     "output_type": "display_data"
    }
   ],
   "source": [
    "plt.figure(figsize=(12,6))"
   ]
  },
  {
   "cell_type": "code",
   "execution_count": 22,
   "id": "3d7f09dd",
   "metadata": {},
   "outputs": [
    {
     "data": {
      "text/plain": [
       "Text(0, 0.5, 'Frequency')"
      ]
     },
     "execution_count": 22,
     "metadata": {},
     "output_type": "execute_result"
    },
    {
     "data": {
      "image/png": "[encoded data removed]",
      "text/plain": [
       "<Figure size 640x480 with 1 Axes>"
      ]
     },
     "metadata": {},
     "output_type": "display_data"
    }
   ],
   "source": [
    "plt.subplot(1,2,1)\n",
    "plt.hist(df['forests_2000'],bins=20, color='green', alpha=0.7)\n",
    "plt.title('Distribution of Forest Cover in 2000')\n",
    "plt.xlabel('Forest Cover')\n",
    "plt.ylabel('Frequency')"
   ]
  },
  {
   "cell_type": "code",
   "execution_count": 23,
   "id": "43a55a9e",
   "metadata": {},
   "outputs": [
    {
     "data": {
      "image/png": "[encoded data removed]",
      "text/plain": [
       "<Figure size 640x480 with 1 Axes>"
      ]
     },
     "metadata": {},
     "output_type": "display_data"
    }
   ],
   "source": [
    "plt.subplot(1,2,2)\n",
    "plt.hist(df['forests_2020'], bins=20, color='blue' , alpha = 0.7)\n",
    "plt.title('Distribution of Forest Cover in 2020')\n",
    "plt.xlabel('Forest Cover')\n",
    "plt.ylabel('Frequency')\n",
    "\n",
    "plt.tight_layout()\n",
    "plt.show()"
   ]
  },
  {
   "cell_type": "code",
   "execution_count": 31,
   "id": "567061bb",
   "metadata": {},
   "outputs": [
    {
     "data": {
      "image/png": "[encoded data removed]",
      "text/plain": [
       "<Figure size 600x600 with 1 Axes>"
      ]
     },
     "metadata": {},
     "output_type": "display_data"
    }
   ],
   "source": [
    "plt.figure(figsize=(6,6))\n",
    "plt.hist(df['trend'], bins=20, color='purple' , alpha=0.7)\n",
    "plt.title('Overall Trend of Deforestation')\n",
    "plt.xlabel('Deforestation Trend')\n",
    "plt.ylabel('Frequency')\n",
    "plt.show()"
   ]
  },
  {
   "cell_type": "markdown",
   "id": "555bd49c",
   "metadata": {},
   "source": [
    "# Country-wise Analysis\n"
   ]
  },
  {
   "cell_type": "code",
   "execution_count": 33,
   "id": "6761624b",
   "metadata": {},
   "outputs": [],
   "source": [
    "#calculate the change in forest cover\n",
    "df['forests_change']= df['forests_2020'] - df['forests_2000']"
   ]
  },
  {
   "cell_type": "code",
   "execution_count": 34,
   "id": "40319669",
   "metadata": {},
   "outputs": [
    {
     "data": {
      "text/html": [
       "<div>\n",
       "<style scoped>\n",
       "    .dataframe tbody tr th:only-of-type {\n",
       "        vertical-align: middle;\n",
       "    }\n",
       "\n",
       "    .dataframe tbody tr th {\n",
       "        vertical-align: top;\n",
       "    }\n",
       "\n",
       "    .dataframe thead th {\n",
       "        text-align: right;\n",
       "    }\n",
       "</style>\n",
       "<table border=\"1\" class=\"dataframe\">\n",
       "  <thead>\n",
       "    <tr style=\"text-align: right;\">\n",
       "      <th></th>\n",
       "      <th>iso3c</th>\n",
       "      <th>forests_2000</th>\n",
       "      <th>forests_2020</th>\n",
       "      <th>trend</th>\n",
       "      <th>forests_change</th>\n",
       "    </tr>\n",
       "  </thead>\n",
       "  <tbody>\n",
       "    <tr>\n",
       "      <th>0</th>\n",
       "      <td>AFG</td>\n",
       "      <td>1.9</td>\n",
       "      <td>1.9</td>\n",
       "      <td>0.0</td>\n",
       "      <td>0.0</td>\n",
       "    </tr>\n",
       "    <tr>\n",
       "      <th>1</th>\n",
       "      <td>ALB</td>\n",
       "      <td>28.1</td>\n",
       "      <td>28.8</td>\n",
       "      <td>2.5</td>\n",
       "      <td>0.7</td>\n",
       "    </tr>\n",
       "    <tr>\n",
       "      <th>2</th>\n",
       "      <td>DZA</td>\n",
       "      <td>0.7</td>\n",
       "      <td>0.8</td>\n",
       "      <td>14.3</td>\n",
       "      <td>0.1</td>\n",
       "    </tr>\n",
       "    <tr>\n",
       "      <th>3</th>\n",
       "      <td>ASM</td>\n",
       "      <td>88.7</td>\n",
       "      <td>85.7</td>\n",
       "      <td>-3.4</td>\n",
       "      <td>-3.0</td>\n",
       "    </tr>\n",
       "    <tr>\n",
       "      <th>4</th>\n",
       "      <td>AND</td>\n",
       "      <td>34.0</td>\n",
       "      <td>34.0</td>\n",
       "      <td>0.0</td>\n",
       "      <td>0.0</td>\n",
       "    </tr>\n",
       "  </tbody>\n",
       "</table>\n",
       "</div>"
      ],
      "text/plain": [
       "  iso3c  forests_2000  forests_2020  trend  forests_change\n",
       "0   AFG           1.9           1.9    0.0             0.0\n",
       "1   ALB          28.1          28.8    2.5             0.7\n",
       "2   DZA           0.7           0.8   14.3             0.1\n",
       "3   ASM          88.7          85.7   -3.4            -3.0\n",
       "4   AND          34.0          34.0    0.0             0.0"
      ]
     },
     "execution_count": 34,
     "metadata": {},
     "output_type": "execute_result"
    }
   ],
   "source": [
    "df.head()"
   ]
  },
  {
   "cell_type": "code",
   "execution_count": 35,
   "id": "179c4397",
   "metadata": {},
   "outputs": [],
   "source": [
    "df_sorted = df.sort_values(by='forests_change', ascending = True)"
   ]
  },
  {
   "cell_type": "code",
   "execution_count": 36,
   "id": "ced21fce",
   "metadata": {},
   "outputs": [
    {
     "data": {
      "text/html": [
       "<div>\n",
       "<style scoped>\n",
       "    .dataframe tbody tr th:only-of-type {\n",
       "        vertical-align: middle;\n",
       "    }\n",
       "\n",
       "    .dataframe tbody tr th {\n",
       "        vertical-align: top;\n",
       "    }\n",
       "\n",
       "    .dataframe thead th {\n",
       "        text-align: right;\n",
       "    }\n",
       "</style>\n",
       "<table border=\"1\" class=\"dataframe\">\n",
       "  <thead>\n",
       "    <tr style=\"text-align: right;\">\n",
       "      <th></th>\n",
       "      <th>iso3c</th>\n",
       "      <th>forests_2000</th>\n",
       "      <th>forests_2020</th>\n",
       "      <th>trend</th>\n",
       "      <th>forests_change</th>\n",
       "    </tr>\n",
       "  </thead>\n",
       "  <tbody>\n",
       "    <tr>\n",
       "      <th>161</th>\n",
       "      <td>PRY</td>\n",
       "      <td>57.9</td>\n",
       "      <td>40.5</td>\n",
       "      <td>-30.1</td>\n",
       "      <td>-17.4</td>\n",
       "    </tr>\n",
       "    <tr>\n",
       "      <th>148</th>\n",
       "      <td>NIC</td>\n",
       "      <td>44.9</td>\n",
       "      <td>28.3</td>\n",
       "      <td>-37.0</td>\n",
       "      <td>-16.6</td>\n",
       "    </tr>\n",
       "    <tr>\n",
       "      <th>154</th>\n",
       "      <td>MNP</td>\n",
       "      <td>69.5</td>\n",
       "      <td>53.0</td>\n",
       "      <td>-23.7</td>\n",
       "      <td>-16.5</td>\n",
       "    </tr>\n",
       "    <tr>\n",
       "      <th>35</th>\n",
       "      <td>KHM</td>\n",
       "      <td>61.1</td>\n",
       "      <td>45.7</td>\n",
       "      <td>-25.2</td>\n",
       "      <td>-15.4</td>\n",
       "    </tr>\n",
       "    <tr>\n",
       "      <th>76</th>\n",
       "      <td>GMB</td>\n",
       "      <td>35.3</td>\n",
       "      <td>24.0</td>\n",
       "      <td>-32.0</td>\n",
       "      <td>-11.3</td>\n",
       "    </tr>\n",
       "    <tr>\n",
       "      <th>141</th>\n",
       "      <td>MMR</td>\n",
       "      <td>53.4</td>\n",
       "      <td>43.7</td>\n",
       "      <td>-18.2</td>\n",
       "      <td>-9.7</td>\n",
       "    </tr>\n",
       "    <tr>\n",
       "      <th>223</th>\n",
       "      <td>TZA</td>\n",
       "      <td>60.6</td>\n",
       "      <td>51.6</td>\n",
       "      <td>-14.9</td>\n",
       "      <td>-9.0</td>\n",
       "    </tr>\n",
       "    <tr>\n",
       "      <th>21</th>\n",
       "      <td>BEN</td>\n",
       "      <td>36.7</td>\n",
       "      <td>27.8</td>\n",
       "      <td>-24.3</td>\n",
       "      <td>-8.9</td>\n",
       "    </tr>\n",
       "    <tr>\n",
       "      <th>123</th>\n",
       "      <td>MWI</td>\n",
       "      <td>32.7</td>\n",
       "      <td>23.8</td>\n",
       "      <td>-27.2</td>\n",
       "      <td>-8.9</td>\n",
       "    </tr>\n",
       "    <tr>\n",
       "      <th>5</th>\n",
       "      <td>AGO</td>\n",
       "      <td>62.3</td>\n",
       "      <td>53.4</td>\n",
       "      <td>-14.3</td>\n",
       "      <td>-8.9</td>\n",
       "    </tr>\n",
       "  </tbody>\n",
       "</table>\n",
       "</div>"
      ],
      "text/plain": [
       "    iso3c  forests_2000  forests_2020  trend  forests_change\n",
       "161   PRY          57.9          40.5  -30.1           -17.4\n",
       "148   NIC          44.9          28.3  -37.0           -16.6\n",
       "154   MNP          69.5          53.0  -23.7           -16.5\n",
       "35    KHM          61.1          45.7  -25.2           -15.4\n",
       "76    GMB          35.3          24.0  -32.0           -11.3\n",
       "141   MMR          53.4          43.7  -18.2            -9.7\n",
       "223   TZA          60.6          51.6  -14.9            -9.0\n",
       "21    BEN          36.7          27.8  -24.3            -8.9\n",
       "123   MWI          32.7          23.8  -27.2            -8.9\n",
       "5     AGO          62.3          53.4  -14.3            -8.9"
      ]
     },
     "execution_count": 36,
     "metadata": {},
     "output_type": "execute_result"
    }
   ],
   "source": [
    "df_sorted.head(10)"
   ]
  },
  {
   "cell_type": "markdown",
   "id": "3b0c08c3",
   "metadata": {},
   "source": [
    "# Data Visualization"
   ]
  },
  {
   "cell_type": "code",
   "execution_count": 37,
   "id": "ac431ec2",
   "metadata": {},
   "outputs": [
    {
     "data": {
      "image/png": "[encoded data removed]",
      "text/plain": [
       "<Figure size 1000x600 with 1 Axes>"
      ]
     },
     "metadata": {},
     "output_type": "display_data"
    }
   ],
   "source": [
    "#Create a scatter plot\n",
    "plt.figure(figsize=(10,6))\n",
    "plt.scatter(df['forests_2000'], df['trend'], alpha = 0.5)\n",
    "plt.title('Relationship between Forest Cover in 2000 and Deforestation Trend')\n",
    "plt.xlabel('Forest Cover in 2000')\n",
    "plt.ylabel('Deforestation Trend')\n",
    "plt.show()"
   ]
  },
  {
   "cell_type": "markdown",
   "id": "7d565411",
   "metadata": {},
   "source": [
    "# Logistics Regression "
   ]
  },
  {
   "cell_type": "code",
   "execution_count": 46,
   "id": "ea591cd2",
   "metadata": {},
   "outputs": [
    {
     "data": {
      "text/plain": [
       "(237, 241)"
      ]
     },
     "execution_count": 46,
     "metadata": {},
     "output_type": "execute_result"
    }
   ],
   "source": [
    "df.shape"
   ]
  },
  {
   "cell_type": "code",
   "execution_count": 49,
   "id": "867a3fe8",
   "metadata": {},
   "outputs": [
    {
     "data": {
      "text/html": [
       "<div>\n",
       "<style scoped>\n",
       "    .dataframe tbody tr th:only-of-type {\n",
       "        vertical-align: middle;\n",
       "    }\n",
       "\n",
       "    .dataframe tbody tr th {\n",
       "        vertical-align: top;\n",
       "    }\n",
       "\n",
       "    .dataframe thead th {\n",
       "        text-align: right;\n",
       "    }\n",
       "</style>\n",
       "<table border=\"1\" class=\"dataframe\">\n",
       "  <thead>\n",
       "    <tr style=\"text-align: right;\">\n",
       "      <th></th>\n",
       "      <th>forests_2000</th>\n",
       "      <th>forests_2020</th>\n",
       "      <th>trend</th>\n",
       "      <th>forests_change</th>\n",
       "      <th>iso3c_ABW</th>\n",
       "      <th>iso3c_AFG</th>\n",
       "      <th>iso3c_AGO</th>\n",
       "      <th>iso3c_AIA</th>\n",
       "      <th>iso3c_ALB</th>\n",
       "      <th>iso3c_AND</th>\n",
       "      <th>...</th>\n",
       "      <th>iso3c_VIR</th>\n",
       "      <th>iso3c_VNM</th>\n",
       "      <th>iso3c_VUT</th>\n",
       "      <th>iso3c_WLD</th>\n",
       "      <th>iso3c_WLF</th>\n",
       "      <th>iso3c_WSM</th>\n",
       "      <th>iso3c_YEM</th>\n",
       "      <th>iso3c_ZAF</th>\n",
       "      <th>iso3c_ZMB</th>\n",
       "      <th>iso3c_ZWE</th>\n",
       "    </tr>\n",
       "  </thead>\n",
       "  <tbody>\n",
       "    <tr>\n",
       "      <th>0</th>\n",
       "      <td>1.9</td>\n",
       "      <td>1.9</td>\n",
       "      <td>0.0</td>\n",
       "      <td>0.0</td>\n",
       "      <td>0</td>\n",
       "      <td>1</td>\n",
       "      <td>0</td>\n",
       "      <td>0</td>\n",
       "      <td>0</td>\n",
       "      <td>0</td>\n",
       "      <td>...</td>\n",
       "      <td>0</td>\n",
       "      <td>0</td>\n",
       "      <td>0</td>\n",
       "      <td>0</td>\n",
       "      <td>0</td>\n",
       "      <td>0</td>\n",
       "      <td>0</td>\n",
       "      <td>0</td>\n",
       "      <td>0</td>\n",
       "      <td>0</td>\n",
       "    </tr>\n",
       "    <tr>\n",
       "      <th>1</th>\n",
       "      <td>28.1</td>\n",
       "      <td>28.8</td>\n",
       "      <td>2.5</td>\n",
       "      <td>0.7</td>\n",
       "      <td>0</td>\n",
       "      <td>0</td>\n",
       "      <td>0</td>\n",
       "      <td>0</td>\n",
       "      <td>1</td>\n",
       "      <td>0</td>\n",
       "      <td>...</td>\n",
       "      <td>0</td>\n",
       "      <td>0</td>\n",
       "      <td>0</td>\n",
       "      <td>0</td>\n",
       "      <td>0</td>\n",
       "      <td>0</td>\n",
       "      <td>0</td>\n",
       "      <td>0</td>\n",
       "      <td>0</td>\n",
       "      <td>0</td>\n",
       "    </tr>\n",
       "    <tr>\n",
       "      <th>2</th>\n",
       "      <td>0.7</td>\n",
       "      <td>0.8</td>\n",
       "      <td>14.3</td>\n",
       "      <td>0.1</td>\n",
       "      <td>0</td>\n",
       "      <td>0</td>\n",
       "      <td>0</td>\n",
       "      <td>0</td>\n",
       "      <td>0</td>\n",
       "      <td>0</td>\n",
       "      <td>...</td>\n",
       "      <td>0</td>\n",
       "      <td>0</td>\n",
       "      <td>0</td>\n",
       "      <td>0</td>\n",
       "      <td>0</td>\n",
       "      <td>0</td>\n",
       "      <td>0</td>\n",
       "      <td>0</td>\n",
       "      <td>0</td>\n",
       "      <td>0</td>\n",
       "    </tr>\n",
       "    <tr>\n",
       "      <th>3</th>\n",
       "      <td>88.7</td>\n",
       "      <td>85.7</td>\n",
       "      <td>-3.4</td>\n",
       "      <td>-3.0</td>\n",
       "      <td>0</td>\n",
       "      <td>0</td>\n",
       "      <td>0</td>\n",
       "      <td>0</td>\n",
       "      <td>0</td>\n",
       "      <td>0</td>\n",
       "      <td>...</td>\n",
       "      <td>0</td>\n",
       "      <td>0</td>\n",
       "      <td>0</td>\n",
       "      <td>0</td>\n",
       "      <td>0</td>\n",
       "      <td>0</td>\n",
       "      <td>0</td>\n",
       "      <td>0</td>\n",
       "      <td>0</td>\n",
       "      <td>0</td>\n",
       "    </tr>\n",
       "    <tr>\n",
       "      <th>4</th>\n",
       "      <td>34.0</td>\n",
       "      <td>34.0</td>\n",
       "      <td>0.0</td>\n",
       "      <td>0.0</td>\n",
       "      <td>0</td>\n",
       "      <td>0</td>\n",
       "      <td>0</td>\n",
       "      <td>0</td>\n",
       "      <td>0</td>\n",
       "      <td>1</td>\n",
       "      <td>...</td>\n",
       "      <td>0</td>\n",
       "      <td>0</td>\n",
       "      <td>0</td>\n",
       "      <td>0</td>\n",
       "      <td>0</td>\n",
       "      <td>0</td>\n",
       "      <td>0</td>\n",
       "      <td>0</td>\n",
       "      <td>0</td>\n",
       "      <td>0</td>\n",
       "    </tr>\n",
       "  </tbody>\n",
       "</table>\n",
       "<p>5 rows × 241 columns</p>\n",
       "</div>"
      ],
      "text/plain": [
       "   forests_2000  forests_2020  trend  forests_change  iso3c_ABW  iso3c_AFG  \\\n",
       "0           1.9           1.9    0.0             0.0          0          1   \n",
       "1          28.1          28.8    2.5             0.7          0          0   \n",
       "2           0.7           0.8   14.3             0.1          0          0   \n",
       "3          88.7          85.7   -3.4            -3.0          0          0   \n",
       "4          34.0          34.0    0.0             0.0          0          0   \n",
       "\n",
       "   iso3c_AGO  iso3c_AIA  iso3c_ALB  iso3c_AND  ...  iso3c_VIR  iso3c_VNM  \\\n",
       "0          0          0          0          0  ...          0          0   \n",
       "1          0          0          1          0  ...          0          0   \n",
       "2          0          0          0          0  ...          0          0   \n",
       "3          0          0          0          0  ...          0          0   \n",
       "4          0          0          0          1  ...          0          0   \n",
       "\n",
       "   iso3c_VUT  iso3c_WLD  iso3c_WLF  iso3c_WSM  iso3c_YEM  iso3c_ZAF  \\\n",
       "0          0          0          0          0          0          0   \n",
       "1          0          0          0          0          0          0   \n",
       "2          0          0          0          0          0          0   \n",
       "3          0          0          0          0          0          0   \n",
       "4          0          0          0          0          0          0   \n",
       "\n",
       "   iso3c_ZMB  iso3c_ZWE  \n",
       "0          0          0  \n",
       "1          0          0  \n",
       "2          0          0  \n",
       "3          0          0  \n",
       "4          0          0  \n",
       "\n",
       "[5 rows x 241 columns]"
      ]
     },
     "execution_count": 49,
     "metadata": {},
     "output_type": "execute_result"
    }
   ],
   "source": [
    "df.head()"
   ]
  },
  {
   "cell_type": "code",
   "execution_count": 53,
   "id": "ca4632fb",
   "metadata": {},
   "outputs": [
    {
     "data": {
      "text/plain": [
       " 0.0     55\n",
       "-3.0      5\n",
       " 0.8      4\n",
       "-0.7      3\n",
       " 1.4      3\n",
       "         ..\n",
       "-0.3      1\n",
       "-11.3     1\n",
       " 2.4      1\n",
       "-1.1      1\n",
       "-2.4      1\n",
       "Name: forests_change, Length: 150, dtype: int64"
      ]
     },
     "execution_count": 53,
     "metadata": {},
     "output_type": "execute_result"
    }
   ],
   "source": [
    "df['forests_change'].value_counts()"
   ]
  },
  {
   "cell_type": "code",
   "execution_count": 54,
   "id": "18219090",
   "metadata": {},
   "outputs": [],
   "source": [
    "df = pd.get_dummies(df)"
   ]
  },
  {
   "cell_type": "code",
   "execution_count": 56,
   "id": "00414f77",
   "metadata": {},
   "outputs": [],
   "source": [
    "df.fillna(0,inplace = True)"
   ]
  },
  {
   "cell_type": "code",
   "execution_count": 57,
   "id": "fe3556d1",
   "metadata": {},
   "outputs": [
    {
     "data": {
      "text/plain": [
       "(237, 241)"
      ]
     },
     "execution_count": 57,
     "metadata": {},
     "output_type": "execute_result"
    }
   ],
   "source": [
    "df.shape"
   ]
  },
  {
   "cell_type": "code",
   "execution_count": 58,
   "id": "ce8be04f",
   "metadata": {},
   "outputs": [],
   "source": [
    "train = df[0:120]\n",
    "test = df[121:]"
   ]
  },
  {
   "cell_type": "code",
   "execution_count": 60,
   "id": "91973af3",
   "metadata": {},
   "outputs": [],
   "source": [
    "x_train = train.drop('forests_change', axis= 1)"
   ]
  },
  {
   "cell_type": "code",
   "execution_count": 61,
   "id": "57032041",
   "metadata": {},
   "outputs": [],
   "source": [
    "y_train = train['forests_change']"
   ]
  },
  {
   "cell_type": "code",
   "execution_count": 62,
   "id": "b7a6461c",
   "metadata": {},
   "outputs": [],
   "source": [
    "true_p = test['forests_change']"
   ]
  },
  {
   "cell_type": "code",
   "execution_count": 66,
   "id": "3d819399",
   "metadata": {},
   "outputs": [],
   "source": [
    "from sklearn.linear_model import LinearRegression"
   ]
  },
  {
   "cell_type": "code",
   "execution_count": 67,
   "id": "d427be77",
   "metadata": {},
   "outputs": [],
   "source": [
    "logreg = LinearRegression()"
   ]
  },
  {
   "cell_type": "code",
   "execution_count": 68,
   "id": "933ba8e3",
   "metadata": {},
   "outputs": [
    {
     "data": {
      "text/html": [
       "<style>#sk-container-id-1 {color: black;background-color: white;}#sk-container-id-1 pre{padding: 0;}#sk-container-id-1 div.sk-toggleable {background-color: white;}#sk-container-id-1 label.sk-toggleable__label {cursor: pointer;display: block;width: 100%;margin-bottom: 0;padding: 0.3em;box-sizing: border-box;text-align: center;}#sk-container-id-1 label.sk-toggleable__label-arrow:before {content: \"▸\";float: left;margin-right: 0.25em;color: #696969;}#sk-container-id-1 label.sk-toggleable__label-arrow:hover:before {color: black;}#sk-container-id-1 div.sk-estimator:hover label.sk-toggleable__label-arrow:before {color: black;}#sk-container-id-1 div.sk-toggleable__content {max-height: 0;max-width: 0;overflow: hidden;text-align: left;background-color: #f0f8ff;}#sk-container-id-1 div.sk-toggleable__content pre {margin: 0.2em;color: black;border-radius: 0.25em;background-color: #f0f8ff;}#sk-container-id-1 input.sk-toggleable__control:checked~div.sk-toggleable__content {max-height: 200px;max-width: 100%;overflow: auto;}#sk-container-id-1 input.sk-toggleable__control:checked~label.sk-toggleable__label-arrow:before {content: \"▾\";}#sk-container-id-1 div.sk-estimator input.sk-toggleable__control:checked~label.sk-toggleable__label {background-color: #d4ebff;}#sk-container-id-1 div.sk-label input.sk-toggleable__control:checked~label.sk-toggleable__label {background-color: #d4ebff;}#sk-container-id-1 input.sk-hidden--visually {border: 0;clip: rect(1px 1px 1px 1px);clip: rect(1px, 1px, 1px, 1px);height: 1px;margin: -1px;overflow: hidden;padding: 0;position: absolute;width: 1px;}#sk-container-id-1 div.sk-estimator {font-family: monospace;background-color: #f0f8ff;border: 1px dotted black;border-radius: 0.25em;box-sizing: border-box;margin-bottom: 0.5em;}#sk-container-id-1 div.sk-estimator:hover {background-color: #d4ebff;}#sk-container-id-1 div.sk-parallel-item::after {content: \"\";width: 100%;border-bottom: 1px solid gray;flex-grow: 1;}#sk-container-id-1 div.sk-label:hover label.sk-toggleable__label {background-color: #d4ebff;}#sk-container-id-1 div.sk-serial::before {content: \"\";position: absolute;border-left: 1px solid gray;box-sizing: border-box;top: 0;bottom: 0;left: 50%;z-index: 0;}#sk-container-id-1 div.sk-serial {display: flex;flex-direction: column;align-items: center;background-color: white;padding-right: 0.2em;padding-left: 0.2em;position: relative;}#sk-container-id-1 div.sk-item {position: relative;z-index: 1;}#sk-container-id-1 div.sk-parallel {display: flex;align-items: stretch;justify-content: center;background-color: white;position: relative;}#sk-container-id-1 div.sk-item::before, #sk-container-id-1 div.sk-parallel-item::before {content: \"\";position: absolute;border-left: 1px solid gray;box-sizing: border-box;top: 0;bottom: 0;left: 50%;z-index: -1;}#sk-container-id-1 div.sk-parallel-item {display: flex;flex-direction: column;z-index: 1;position: relative;background-color: white;}#sk-container-id-1 div.sk-parallel-item:first-child::after {align-self: flex-end;width: 50%;}#sk-container-id-1 div.sk-parallel-item:last-child::after {align-self: flex-start;width: 50%;}#sk-container-id-1 div.sk-parallel-item:only-child::after {width: 0;}#sk-container-id-1 div.sk-dashed-wrapped {border: 1px dashed gray;margin: 0 0.4em 0.5em 0.4em;box-sizing: border-box;padding-bottom: 0.4em;background-color: white;}#sk-container-id-1 div.sk-label label {font-family: monospace;font-weight: bold;display: inline-block;line-height: 1.2em;}#sk-container-id-1 div.sk-label-container {text-align: center;}#sk-container-id-1 div.sk-container {/* jupyter's `normalize.less` sets `[hidden] { display: none; }` but bootstrap.min.css set `[hidden] { display: none !important; }` so we also need the `!important` here to be able to override the default hidden behavior on the sphinx rendered scikit-learn.org. See: https://github.com/scikit-learn/scikit-learn/issues/21755 */display: inline-block !important;position: relative;}#sk-container-id-1 div.sk-text-repr-fallback {display: none;}</style><div id=\"sk-container-id-1\" class=\"sk-top-container\"><div class=\"sk-text-repr-fallback\"><pre>LinearRegression()</pre><b>In a Jupyter environment, please rerun this cell to show the HTML representation or trust the notebook. <br />On GitHub, the HTML representation is unable to render, please try loading this page with nbviewer.org.</b></div><div class=\"sk-container\" hidden><div class=\"sk-item\"><div class=\"sk-estimator sk-toggleable\"><input class=\"sk-toggleable__control sk-hidden--visually\" id=\"sk-estimator-id-1\" type=\"checkbox\" checked><label for=\"sk-estimator-id-1\" class=\"sk-toggleable__label sk-toggleable__label-arrow\">LinearRegression</label><div class=\"sk-toggleable__content\"><pre>LinearRegression()</pre></div></div></div></div></div>"
      ],
      "text/plain": [
       "LinearRegression()"
      ]
     },
     "execution_count": 68,
     "metadata": {},
     "output_type": "execute_result"
    }
   ],
   "source": [
    "logreg.fit(x_train,y_train)"
   ]
  },
  {
   "cell_type": "code",
   "execution_count": 70,
   "id": "efc0b3be",
   "metadata": {},
   "outputs": [],
   "source": [
    "x_test = test.drop('forests_change',axis=1)"
   ]
  },
  {
   "cell_type": "code",
   "execution_count": 71,
   "id": "5e934853",
   "metadata": {},
   "outputs": [],
   "source": [
    "x_test = pd.get_dummies(x_train)"
   ]
  },
  {
   "cell_type": "code",
   "execution_count": 72,
   "id": "5734a77d",
   "metadata": {},
   "outputs": [
    {
     "data": {
      "text/plain": [
       "(120, 240)"
      ]
     },
     "execution_count": 72,
     "metadata": {},
     "output_type": "execute_result"
    }
   ],
   "source": [
    "x_test.shape"
   ]
  },
  {
   "cell_type": "code",
   "execution_count": 73,
   "id": "b1f9d3b3",
   "metadata": {},
   "outputs": [],
   "source": [
    "x_train.fillna(0,inplace = True)"
   ]
  },
  {
   "cell_type": "code",
   "execution_count": 74,
   "id": "9f13adfb",
   "metadata": {},
   "outputs": [],
   "source": [
    "x_test.fillna(0,inplace = True)"
   ]
  },
  {
   "cell_type": "code",
   "execution_count": 76,
   "id": "5450de9c",
   "metadata": {},
   "outputs": [],
   "source": [
    "pred = logreg.predict(x_test)"
   ]
  },
  {
   "cell_type": "code",
   "execution_count": 77,
   "id": "8e59bad9",
   "metadata": {},
   "outputs": [
    {
     "data": {
      "text/plain": [
       "array([-3.01980663e-14,  7.00000000e-01,  1.00000000e-01, -3.00000000e+00,\n",
       "       -7.81041898e-14, -8.90000000e+00, -5.12090370e-14, -3.00000000e+00,\n",
       "       -1.80000000e+00, -2.00000000e-01, -3.33622019e-14,  2.00000000e-01,\n",
       "        8.00000000e-01,  1.70000000e+00, -3.76816633e-14,  4.00000000e-01,\n",
       "       -3.00000000e-01, -2.86350804e-14,  2.40000000e+00,  8.00000000e-01,\n",
       "       -8.00000000e+00, -8.90000000e+00, -3.95065924e-14,  5.90000000e+00,\n",
       "       -4.00000000e+00, -3.88166062e-14,  1.50000000e+00, -4.20000000e+00,\n",
       "       -6.50000000e+00, -4.00000000e-01, -3.20000000e+00,  5.40000000e+00,\n",
       "       -3.70000000e+00,  3.30000000e+00,  1.40000000e+00, -1.54000000e+01,\n",
       "       -2.70000000e+00, -1.00000000e-01, -9.00000000e-01, -1.00000000e+00,\n",
       "       -1.60000000e+00,  3.20000000e+00,  4.50000000e+00, -3.20000000e+00,\n",
       "       -4.70000000e+00, -7.00000000e-01,  1.00000000e-01,  3.40000000e+00,\n",
       "       -7.10000000e+00,  9.00000000e-01,  8.50000000e+00,  5.62065585e-13,\n",
       "        1.00000000e-01,  6.00000000e-01, -3.50000000e+00, -7.90000000e+00,\n",
       "        1.40000000e+00,  1.00000000e-01, -3.30251451e-13,  3.60000000e+00,\n",
       "       -5.00000000e+00, -1.00000000e-01, -4.30000000e+00, -5.90000000e+00,\n",
       "       -5.00000000e-01,  3.30000000e+00,  1.40000000e+00, -1.30000000e+00,\n",
       "        5.51516406e-13,  5.57143307e-13,  7.30000000e+00,  5.43972853e-13,\n",
       "        3.60000000e+00, -1.10000000e+00,  3.00000000e-01, -7.00000000e-01,\n",
       "       -1.13000000e+01,  9.00000000e-01,  2.00000000e-01, -3.80000000e+00,\n",
       "        5.52209862e-13,  2.40000000e+00,  5.52447085e-13, -3.06202980e-13,\n",
       "        1.60000000e+00,  7.50000000e+00, -6.40000000e+00,  2.50000000e+00,\n",
       "       -3.00000000e+00, -6.00000000e+00, -7.00000000e-01, -1.20000000e+00,\n",
       "        5.52880766e-13, -3.80000000e+00,  1.10000000e+00,  2.00000000e-01,\n",
       "        1.60000000e+00, -4.80000000e+00,  9.00000000e-01, -3.11774478e-13,\n",
       "        2.20000000e+00, -3.01130215e-13, -6.00000000e-01,  4.00000000e+00,\n",
       "        7.00000000e+00,  2.00000000e-01, -3.08200947e-13, -3.05253652e-13,\n",
       "        1.00000000e-01, -7.00000000e-01, -3.10833390e-13,  1.00000000e-01,\n",
       "        7.00000000e-01, -3.60000000e+00,  2.70000000e+00,  5.00000000e-01,\n",
       "       -3.05028138e-13, -6.30000000e+00,  5.57808574e-13, -8.39311259e-14])"
      ]
     },
     "execution_count": 77,
     "metadata": {},
     "output_type": "execute_result"
    }
   ],
   "source": [
    "pred"
   ]
  },
  {
   "cell_type": "code",
   "execution_count": 80,
   "id": "4feda0d7",
   "metadata": {},
   "outputs": [
    {
     "data": {
      "text/plain": [
       "1.0"
      ]
     },
     "execution_count": 80,
     "metadata": {},
     "output_type": "execute_result"
    }
   ],
   "source": [
    "logreg.score(x_train,y_train)"
   ]
  },
  {
   "cell_type": "markdown",
   "id": "b9276e5a",
   "metadata": {},
   "source": [
    "rmse_test=np.sqrt(np.power((np.array(true_p) - np.array(pred),2)))"
   ]
  },
  {
   "cell_type": "code",
   "execution_count": 82,
   "id": "b92b7728",
   "metadata": {},
   "outputs": [
    {
     "data": {
      "text/plain": [
       "(array([ 1.,  1.,  2.,  8., 11., 11., 60., 18.,  4.,  4.]),\n",
       " array([-15.4 , -13.01, -10.62,  -8.23,  -5.84,  -3.45,  -1.06,   1.33,\n",
       "          3.72,   6.11,   8.5 ]),\n",
       " <BarContainer object of 10 artists>)"
      ]
     },
     "execution_count": 82,
     "metadata": {},
     "output_type": "execute_result"
    },
    {
     "data": {
      "image/png": "[encoded data removed]",
      "text/plain": [
       "<Figure size 640x480 with 1 Axes>"
      ]
     },
     "metadata": {},
     "output_type": "display_data"
    }
   ],
   "source": [
    "plt.hist(pred)"
   ]
  }
 ],
 "metadata": {
  "kernelspec": {
   "display_name": "Python 3 (ipykernel)",
   "language": "python",
   "name": "python3"
  },
  "language_info": {
   "codemirror_mode": {
    "name": "ipython",
    "version": 3
   },
   "file_extension": ".py",
   "mimetype": "text/x-python",
   "name": "python",
   "nbconvert_exporter": "python",
   "pygments_lexer": "ipython3",
   "version": "3.10.9"
  }
 },
 "nbformat": 4,
 "nbformat_minor": 5
}
